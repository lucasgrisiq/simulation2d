{
 "cells": [
  {
   "cell_type": "code",
   "execution_count": 143,
   "metadata": {},
   "outputs": [
    {
     "name": "stdout",
     "output_type": "stream",
     "text": [
      "['kick_off_l' 'play_on' 'foul_charge_r' 'free_kick_l' 'kick_in_l' 'goal_l'\n",
      " 'kick_off_r' 'foul_charge_l' 'free_kick_r' 'corner_kick_l' 'kick_in_r'\n",
      " 'corner_kick_r' 'goal_r' 'offside_l' 'goal_kick_r' 'time_over']\n"
     ]
    }
   ],
   "source": [
    "import pandas as pd\n",
    "import numpy as np\n",
    "import math\n",
    "import matplotlib.pyplot as plt\n",
    "\n",
    "df = pd.read_csv(\"logs-csv/RoboCIn_2-vs-Razi2018_3.csv\")\n",
    "df_play_on = df[ df['playmode'] == \"play_on\" ]\n",
    "print(df['playmode'].unique())"
   ]
  },
  {
   "cell_type": "code",
   "execution_count": 27,
   "metadata": {},
   "outputs": [],
   "source": [
    "team_l = df['team_name_l'][0]\n",
    "if(team_l == 'RoboCIn'): rcSide = 'left'\n",
    "else: rcSide = 'right'"
   ]
  },
  {
   "cell_type": "code",
   "execution_count": 148,
   "metadata": {},
   "outputs": [
    {
     "data": {
      "text/plain": [
       "3678"
      ]
     },
     "execution_count": 148,
     "metadata": {},
     "output_type": "execute_result"
    }
   ],
   "source": [
    "ball_x = df_play_on['ball_x']\n",
    "ball_y = df_play_on['ball_y']\n",
    "ball_vx = df_play_on['ball_vx']\n",
    "ball_vy = df_play_on['ball_vy']\n",
    "\n",
    "ball_vx.head()\n",
    "\n",
    "len(df_play_on['show_time'])"
   ]
  },
  {
   "cell_type": "code",
   "execution_count": 152,
   "metadata": {},
   "outputs": [
    {
     "name": "stdout",
     "output_type": "stream",
     "text": [
      "3678\n"
     ]
    },
    {
     "data": {
      "image/png": "[encoded data removed]",
      "text/plain": [
       "<Figure size 432x288 with 1 Axes>"
      ]
     },
     "metadata": {
      "needs_background": "light"
     },
     "output_type": "display_data"
    },
    {
     "name": "stdout",
     "output_type": "stream",
     "text": [
      "Posse r: 64.46%\n",
      "Posse l: 35.54%\n"
     ]
    }
   ],
   "source": [
    "players_l_x = df_play_on[['player_l1_x', 'player_l2_x', 'player_l3_x', 'player_l4_x', 'player_l5_x', 'player_l6_x', 'player_l7_x', 'player_l8_x', 'player_l9_x', 'player_l10_x', 'player_l11_x']]\n",
    "players_l_y = df_play_on[['player_l1_y', 'player_l2_y', 'player_l3_y', 'player_l4_y', 'player_l5_y', 'player_l6_y', 'player_l7_y', 'player_l8_y', 'player_l9_y', 'player_l10_y', 'player_l11_y']]\n",
    "players_r_x = df_play_on[['player_r1_x', 'player_r2_x', 'player_r3_x', 'player_r4_x', 'player_r5_x', 'player_r6_x', 'player_r7_x', 'player_r8_x', 'player_r9_x', 'player_r10_x', 'player_r11_x']]\n",
    "players_r_y = df_play_on[['player_r1_y', 'player_r2_y', 'player_r3_y', 'player_r4_y', 'player_r5_y', 'player_r6_y', 'player_r7_y', 'player_r8_y', 'player_r9_y', 'player_r10_y', 'player_r11_y']]\n",
    "players_l_vx = df_play_on[['player_l1_vx', 'player_l2_vx', 'player_l3_vx', 'player_l4_vx', 'player_l5_vx', 'player_l6_vx', 'player_l7_vx', 'player_l8_vx', 'player_l9_vx', 'player_l10_vx', 'player_l11_vx']]\n",
    "players_l_vy = df_play_on[['player_l1_vy', 'player_l2_vy', 'player_l3_vy', 'player_l4_vy', 'player_l5_vy', 'player_l6_vy', 'player_l7_vy', 'player_l8_vy', 'player_l9_vy', 'player_l10_vy', 'player_l11_vy']]\n",
    "players_r_vx = df_play_on[['player_r1_vx', 'player_r2_vx', 'player_r3_vx', 'player_r4_vx', 'player_r5_vx', 'player_r6_vx', 'player_r7_vx', 'player_r8_vx', 'player_r9_vx', 'player_r10_vx', 'player_r11_vx']]\n",
    "players_r_vy = df_play_on[['player_r1_vy', 'player_r2_vy', 'player_r3_vy', 'player_r4_vy', 'player_r5_vy', 'player_r6_vy', 'player_r7_vy', 'player_r8_vy', 'player_r9_vy', 'player_r10_vy', 'player_r11_vy']]\n",
    "\n",
    "posse_r = 0\n",
    "posse_l = 0\n",
    "posse_pass = 0\n",
    "\n",
    "plx = players_l_x.columns\n",
    "ply = players_l_y.columns\n",
    "prx = players_r_x.columns\n",
    "pry = players_r_y.columns\n",
    "vlx = players_l_vx.columns\n",
    "vly = players_l_vy.columns\n",
    "vrx = players_r_vx.columns\n",
    "vry = players_r_vy.columns\n",
    "\n",
    "holder = ('', 0)\n",
    "player_l = 0\n",
    "player_r = 0\n",
    "holders_r = [0]*12\n",
    "holders_l = [0]*12\n",
    "for time in range (0,len(df_play_on['show_time'])):\n",
    "    min_dist_l = 10000\n",
    "    min_dist_r = 10000\n",
    "    ball_v = math.sqrt( pow(ball_vx.values[time], 2) + pow(ball_vy.values[time], 2) )\n",
    "    for c in range (0,10):\n",
    "        dl = pow( (ball_x.values[time] - players_l_x[ plx[c] ].values[time]), 2 ) + pow( (ball_y.values[time] - players_l_y[ ply[c] ].values[time]), 2 )\n",
    "        dist_l = math.sqrt(dl)\n",
    "        if(dist_l < min_dist_l):\n",
    "            player_l = c\n",
    "            min_dist_l = dist_l\n",
    "            vl_relative = math.sqrt(pow( (ball_vx.values[time] - players_l_vx[ vlx[c] ].values[time]), 2 ) + pow( (ball_vy.values[time] - players_l_vy[ vly[c] ].values[time]), 2 ))\n",
    "                \n",
    "        dr = pow( (ball_x.values[time] - players_r_x[ prx[c] ].values[time]), 2 ) + pow( (ball_y.values[time] - players_r_y[ pry[c] ].values[time]), 2 )\n",
    "        dist_r = math.sqrt(dr)\n",
    "        if(dist_r < min_dist_r):\n",
    "            player_r = c\n",
    "            min_dist_r = dist_r\n",
    "            vr_relative = math.sqrt(pow( (ball_vx.values[time] - players_r_vx[ vrx[c] ].values[time]), 2 ) + pow( (ball_vy.values[time] - players_r_vy[ vry[c] ].values[time]), 2 ))\n",
    "    \n",
    "    d_abs = abs(min_dist_l - min_dist_r)\n",
    "    \n",
    "    if(holder == ('', 0)):\n",
    "        if(min_dist_l < min_dist_r):\n",
    "            posse_l = posse_l + 1\n",
    "            holder = ('l', player_l)\n",
    "        else:\n",
    "            posse_r = posse_r + 1\n",
    "            holder = ('r', player_r)\n",
    "            \n",
    "    elif(holder[0] == 'l'):\n",
    "        #intercept\n",
    "        if( (min_dist_r < min_dist_l) and (min_dist_r < 0.3) ):\n",
    "            posse_r = posse_r + 1\n",
    "            holder = ('r', player_r)\n",
    "            holders_r[player_r+1] = holders_r[player_r+1] + 1\n",
    "        #roubo de bola\n",
    "        elif( (d_abs < 1.0) and (min_dist_r/vr_relative) < 1.0 ):\n",
    "            posse_r = posse_r + 1\n",
    "            holder = ('r', player_r)\n",
    "            holders_r[player_r+1] = holders_r[player_r+1] + 1\n",
    "        else:\n",
    "            if(player_l != holder[1]):\n",
    "                holder = ('l', player_l)\n",
    "            posse_l = posse_l + 1\n",
    "            holders_l[player_l+1] = holders_l[player_l+1] + 1\n",
    "            \n",
    "    elif(holder[0] == 'r'):\n",
    "        #intercept\n",
    "        if( (min_dist_l < min_dist_r) and (min_dist_l < 0.3) ):\n",
    "            posse_l = posse_l + 1\n",
    "            holder = ('l', player_l)\n",
    "            holders_l[player_l+1] = holders_l[player_l+1] + 1\n",
    "        #roubo de bola\n",
    "        elif( (d_abs < 1.0) and (min_dist_l/vl_relative) < 1.0 ):\n",
    "            posse_l = posse_l + 1\n",
    "            holder = ('l', player_l)\n",
    "            holders_l[player_l+1] = holders_l[player_l+1] + 1\n",
    "        else:\n",
    "            if(player_r != holder[1]):\n",
    "                holder = ('r', player_r)\n",
    "            posse_r = posse_r + 1\n",
    "            holders_r[player_r+1] = holders_r[player_r+1] + 1\n",
    "            \n",
    "plt.plot(holders_r)\n",
    "plt.plot(holders_l)\n",
    "plt.show()\n",
    "print(\"Posse r: %.2f\" % (posse_r/len(df_play_on['show_time'])*100) + \"%\")\n",
    "print(\"Posse l: %.2f\" % (posse_l/len(df_play_on['show_time'])*100) + \"%\")\n",
    "    \n",
    "            "
   ]
  },
  {
   "cell_type": "code",
   "execution_count": null,
   "metadata": {},
   "outputs": [],
   "source": []
  }
 ],
 "metadata": {
  "kernelspec": {
   "display_name": "Python 3",
   "language": "python",
   "name": "python3"
  },
  "language_info": {
   "codemirror_mode": {
    "name": "ipython",
    "version": 3
   },
   "file_extension": ".py",
   "mimetype": "text/x-python",
   "name": "python",
   "nbconvert_exporter": "python",
   "pygments_lexer": "ipython3",
   "version": "3.7.4"
  }
 },
 "nbformat": 4,
 "nbformat_minor": 4
}
